{
 "cells": [
  {
   "cell_type": "code",
   "execution_count": 145,
   "id": "07934ebd",
   "metadata": {},
   "outputs": [],
   "source": [
    "import numpy as np\n",
    "\n",
    "tend = 2\n",
    "mesh_sizes = np.array([40, 80, 160, 320, 640])\n",
    "err_l1 = np.zeros(n:=len(mesh_sizes))\n",
    "err_l2 = np.zeros(n)\n",
    "err_linf = np.zeros(n)\n",
    "\n",
    "for i,N in enumerate(mesh_sizes):\n",
    "    dx = 1/N\n",
    "    dt = 1/(4*N) # <= 1/(2N)\n",
    "    c = 2*dt/dx\n",
    "    x = np.linspace(0,1,N)\n",
    "    # Initial values:\n",
    "    u = np.sin(2*np.pi*x)\n",
    "    # FTBS Matrix:\n",
    "    M = np.diag((1-c)*np.ones(N)) + np.diag(c*np.ones(N-1),-1)\n",
    "    M[0,-1] = c\n",
    "    for _ in range(int(tend/dt)):\n",
    "        u = M@u\n",
    "    err_l1[i] = np.sum(np.abs(u-u_exact(x,tend)))\n",
    "    err_l2[i] = np.sqrt(np.sum((np.abs(u-u_exact(x,tend)))**2))\n",
    "    err_linf[i] = np.max(np.abs(u-u_exact(x,tend)))\n",
    "\n",
    "\n"
   ]
  },
  {
   "cell_type": "code",
   "execution_count": 146,
   "id": "20662eba",
   "metadata": {},
   "outputs": [],
   "source": [
    "def u_exact(x,t):\n",
    "    return np.sin(2*np.pi*(x-2*t))"
   ]
  },
  {
   "cell_type": "code",
   "execution_count": 152,
   "id": "86f36917",
   "metadata": {},
   "outputs": [
    {
     "data": {
      "text/plain": [
       "<matplotlib.legend.Legend at 0x1496feb4070>"
      ]
     },
     "execution_count": 152,
     "metadata": {},
     "output_type": "execute_result"
    },
    {
     "data": {
      "image/png": "[encoded data removed]",
      "text/plain": [
       "<Figure size 432x288 with 1 Axes>"
      ]
     },
     "metadata": {
      "needs_background": "light"
     },
     "output_type": "display_data"
    }
   ],
   "source": [
    "import matplotlib.pyplot as plt\n",
    "\n",
    "# plt.plot(x,np.abs(u-u_exact(x,tend)))\n",
    "mesh_widths = 1/mesh_sizes\n",
    "plt.loglog(mesh_widths, err_l1, label=\"$L^{1}$-Error\")\n",
    "plt.loglog(mesh_widths, err_l2, label=\"$L^{2}$-Error\")\n",
    "plt.loglog(mesh_widths, err_linf, label=\"$L^{\\infty}$-Error\")\n",
    "plt.loglog(mesh_widths, 10*mesh_widths, label=\"$h^{1}$\")\n",
    "plt.loglog(mesh_widths, 10*mesh_widths**0.5, label=\"$h^{0.5}$\")\n",
    "plt.legend()"
   ]
  },
  {
   "cell_type": "code",
   "execution_count": 149,
   "id": "835ea122",
   "metadata": {},
   "outputs": [
    {
     "name": "stdout",
     "output_type": "stream",
     "text": [
      "[15.56932114 19.49012925 21.98462632 23.419565   24.21008092]\n",
      "[2.77672504 2.45180369 1.95147204 1.46667567 1.06968189]\n",
      "[0.63301592 0.39355694 0.22064638 0.11673426 0.06000269]\n"
     ]
    }
   ],
   "source": [
    "print(err_l1)\n",
    "print(err_l2)\n",
    "print(err_linf)"
   ]
  }
 ],
 "metadata": {
  "kernelspec": {
   "display_name": "Python 3",
   "language": "python",
   "name": "python3"
  },
  "language_info": {
   "codemirror_mode": {
    "name": "ipython",
    "version": 3
   },
   "file_extension": ".py",
   "mimetype": "text/x-python",
   "name": "python",
   "nbconvert_exporter": "python",
   "pygments_lexer": "ipython3",
   "version": "3.8.18"
  }
 },
 "nbformat": 4,
 "nbformat_minor": 5
}
