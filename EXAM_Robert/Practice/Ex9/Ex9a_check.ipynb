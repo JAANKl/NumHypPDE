{
 "cells": [
  {
   "cell_type": "code",
   "execution_count": 3,
   "metadata": {},
   "outputs": [
    {
     "name": "stdout",
     "output_type": "stream",
     "text": [
      "[[0 1]\n",
      " [1 1]]\n",
      "Hand calculated R, R_inv are inverses\n",
      "Hand calculated R, Lambda and R_inv are correct\n",
      "Solving with hand calculations\n",
      "Eigenvalues: [-2  2]\n",
      "R: [[ 2  2]\n",
      " [-1  1]]\n",
      "R_inv: [[ 0.25 -0.5 ]\n",
      " [ 0.25  0.5 ]]\n",
      "W_L: [-0.5  0.5]\n",
      "W_R: [-0.25  0.75]\n",
      "W_0: [[-0.5  -0.25]\n",
      " [ 0.5   0.75]]\n",
      "U_star: [0.5  0.75]\n"
     ]
    },
    {
     "data": {
      "text/plain": [
       "'Godunov flux: F_jph = Matrix([[-1.0*U_{j+1}^1 + 2.0*U_{j+1}^2 + 1.0*U_{j}^1 + 2.0*U_{j}^2], [0.5*U_{j+1}^1 - 1.0*U_{j+1}^2 + 0.5*U_{j}^1 + 1.0*U_{j}^2]])'"
      ]
     },
     "metadata": {},
     "output_type": "display_data"
    },
    {
     "data": {
      "text/latex": [
       "$\\displaystyle \\left[\\begin{matrix}- 1.0 U_{j+1}^1 + 2.0 U_{j+1}^2 + 1.0 U_{j}^1 + 2.0 U_{j}^2\\\\0.5 U_{j+1}^1 - 1.0 U_{j+1}^2 + 0.5 U_{j}^1 + 1.0 U_{j}^2\\end{matrix}\\right]$"
      ],
      "text/plain": [
       "⎡-U_{j+1}__1 + 2.0⋅U_{j+1}__2 + 1.0⋅U_{j}__1 + 2.0⋅U_{j}__2⎤\n",
       "⎢                                                          ⎥\n",
       "⎣0.5⋅U_{j+1}__1 - U_{j+1}__2 + 0.5⋅U_{j}__1 + 1.0⋅U_{j}__2 ⎦"
      ]
     },
     "metadata": {},
     "output_type": "display_data"
    },
    {
     "name": "stdout",
     "output_type": "stream",
     "text": [
      "Update rule: U_j_new=Matrix([[U_{j-1}^2 + \\Delta~t*(-1.0*U_{j+1}^1 + 2.0*U_{j+1}^2 - 4.0*U_{j-1}^2 + 1.0*U_{j}^1 + 2.0*U_{j}^2)/\\Delta~x], [U_{j-1}^2 + \\Delta~t*(0.5*U_{j+1}^1 - 1.0*U_{j+1}^2 - 1.0*U_{j-1}^2 + 0.5*U_{j}^1 + 1.0*U_{j}^2)/\\Delta~x]])\n"
     ]
    },
    {
     "data": {
      "text/latex": [
       "$\\displaystyle \\left[\\begin{matrix}U_{j-1}^2 + \\frac{\\Delta~t \\left(- 1.0 U_{j+1}^1 + 2.0 U_{j+1}^2 - 4.0 U_{j-1}^2 + 1.0 U_{j}^1 + 2.0 U_{j}^2\\right)}{\\Delta~x}\\\\U_{j-1}^2 + \\frac{\\Delta~t \\left(0.5 U_{j+1}^1 - 1.0 U_{j+1}^2 - 1.0 U_{j-1}^2 + 0.5 U_{j}^1 + 1.0 U_{j}^2\\right)}{\\Delta~x}\\end{matrix}\\right]$"
      ],
      "text/plain": [
       "⎡             \\Delta~t⋅(-U_{j+1}__1 + 2.0⋅U_{j+1}__2 - 4.0⋅U_{j-1}__2 + 1.0⋅U_\n",
       "⎢U_{j-1}__2 + ────────────────────────────────────────────────────────────────\n",
       "⎢                                                    \\Delta~x                 \n",
       "⎢                                                                             \n",
       "⎢               \\Delta~t⋅(0.5⋅U_{j+1}__1 - U_{j+1}__2 - U_{j-1}__2 + 0.5⋅U_{j}\n",
       "⎢  U_{j-1}__2 + ──────────────────────────────────────────────────────────────\n",
       "⎣                                                    \\Delta~x                 \n",
       "\n",
       "{j}__1 + 2.0⋅U_{j}__2)⎤\n",
       "──────────────────────⎥\n",
       "                      ⎥\n",
       "                      ⎥\n",
       "__1 + 1.0⋅U_{j}__2)   ⎥\n",
       "───────────────────   ⎥\n",
       "                      ⎦"
      ]
     },
     "metadata": {},
     "output_type": "display_data"
    },
    {
     "name": "stdout",
     "output_type": "stream",
     "text": [
      "-1/2*R@|Lambda|@R^-1= \n",
      " [[-1.  0.]\n",
      " [ 0. -1.]]\n"
     ]
    }
   ],
   "source": [
    "import numpy as np\n",
    "import matplotlib.pyplot as plt\n",
    "import sympy as sp\n",
    "\n",
    "solve_with_hand_calculations = True\n",
    "check_hand_calculations = True\n",
    "\n",
    "U_L = np.array([0,\n",
    "                1])\n",
    "U_R = np.array([1, \n",
    "                1])\n",
    "U_0 = np.array([U_L, U_R]).T\n",
    "print(U_0)\n",
    "\n",
    "A = np.array([[0, 4], \n",
    "              [1, 0]])\n",
    "\n",
    "R_by_hand = np.array([[2, 2],\n",
    "                      [-1, 1]])\n",
    "R_inv_by_hand = 1/4*np.array([[1, -2],\n",
    "                          [1, 2]])\n",
    "Lambda_by_hand = np.diag([-2, 2])\n",
    "\n",
    "if check_hand_calculations:\n",
    "\n",
    "    #assert that eigenvalues are increasing\n",
    "    assert Lambda_by_hand[0, 0] <= Lambda_by_hand[1, 1], \"Eigenvalues are not increasing\"\n",
    "    #assert R has orthogonal columns, but not necessarily normalized, only true if symmetric\n",
    "    if np.allclose(A, A.T):\n",
    "        assert np.allclose((R_by_hand.T @ R_by_hand)[0, 1]**2 + (R_by_hand.T @ R_by_hand)[1, 0]**2, 0), \"R does not have orthogonal columns\"\n",
    "    assert np.allclose(np.linalg.det(A), np.linalg.det(Lambda_by_hand)), \"Wrong eigenvalues\"\n",
    "\n",
    "    if np.allclose(R_by_hand @ R_inv_by_hand, np.eye(2)):\n",
    "        print(\"Hand calculated R, R_inv are inverses\")\n",
    "    else:\n",
    "        print(\"INCORRECT: Hand calculated R, R_inv are not inverses\")\n",
    "\n",
    "    if np.allclose(R_by_hand @ Lambda_by_hand @ R_inv_by_hand, A):\n",
    "        print(\"Hand calculated R, Lambda and R_inv are correct\")\n",
    "    else:\n",
    "        print(\"INCORRECT: Hand calculated R, Lambda and R_inv are not correct\")\n",
    "\n",
    "\n",
    "\n",
    "\n",
    "#eigenvalues\n",
    "lambdas, R = np.linalg.eig(A)\n",
    "\n",
    "#sorting from lowest to highest eigenvalue\n",
    "idx = lambdas.argsort()\n",
    "lambdas = lambdas[idx]\n",
    "R = R[:,idx]\n",
    "\n",
    "R_inv = np.linalg.inv(R)\n",
    "\n",
    "if solve_with_hand_calculations:\n",
    "    print(\"Solving with hand calculations\")\n",
    "    R = R_by_hand\n",
    "    R_inv = R_inv_by_hand\n",
    "    lambdas = Lambda_by_hand.diagonal()\n",
    "\n",
    "W_L = R_inv @ U_L\n",
    "W_R = R_inv @ U_R\n",
    "W_0 = R_inv @ U_0\n",
    "\n",
    "print(f\"Eigenvalues: {lambdas}\")\n",
    "print(f\"R: {R}\")\n",
    "print(f\"R_inv: {R_inv}\")\n",
    "\n",
    "print(f\"W_L: {W_L}\")\n",
    "print(f\"W_R: {W_R}\")\n",
    "print(f\"W_0: {W_0}\")\n",
    "\n",
    "U_star = R@ np.array([[1, 0],\n",
    "                      [0, 0]]) @ R_inv @ U_R + R @ np.array([[0, 0],\n",
    "                                                             [0, 1]]) @ R_inv @ U_L\n",
    "\n",
    "print(f\"U_star: {U_star}\")\n",
    "\n",
    "#explicit godunov flux with sympy\n",
    "from sympy import init_printing,latex,symbols\n",
    "from IPython.display import display\n",
    "\n",
    "\n",
    "init_printing(use_latex='mathjax')\n",
    "\n",
    "U_j_1, U_j_2, U_j_p_1, U_j_p_2, U_j_m_1, U_j_m_2  = sp.symbols('U_{j}^1 U_{j}^2 U_{j+1}^1 U_{j+1}^2 U_{j-1}^2 U_{j-1}^2')\n",
    "U_j = sp.Matrix([[U_j_1],\n",
    "                 [U_j_2]])\n",
    "U_j_p = sp.Matrix([[U_j_p_1],\n",
    "                 [U_j_p_2]])\n",
    "U_j_m = sp.Matrix([[U_j_m_1],\n",
    "                 [U_j_m_2]])\n",
    "\n",
    "\n",
    "F_j_ph = 1/2*A@(U_j + U_j_p) - 1/2*R@np.diag(np.abs(lambdas))@R_inv*(U_j_p - U_j)\n",
    "display(f\"Godunov flux: F_jph = {F_j_ph}\")\n",
    "display(F_j_ph)\n",
    "#update rule\n",
    "dt, dx = sp.symbols('\\\\Delta~t \\\\Delta~x')\n",
    "U_j_p = U_j\n",
    "U_j = sp.Matrix([[U_j_m_1],\n",
    "                    [U_j_m_2]])\n",
    "F_j_mh = 1/2*A@(U_j_m + U_j) - 1/2*R@np.diag(np.abs(lambdas))@R_inv*(U_j - U_j_m)\n",
    "U_j_new = U_j + dt/dx*(F_j_ph-F_j_mh)\n",
    "print(f\"Update rule: U_j_new={U_j_new}\")\n",
    "display(U_j_new)\n",
    "print(f\"-1/2*R@|Lambda|@R^-1= \\n {-1/2*R@np.diag(np.abs(lambdas))@R_inv}\")\n"
   ]
  },
  {
   "cell_type": "code",
   "execution_count": 4,
   "metadata": {},
   "outputs": [
    {
     "data": {
      "text/plain": [
       "array([[ 0.25, -0.5 ],\n",
       "       [ 0.25,  0.5 ]])"
      ]
     },
     "execution_count": 4,
     "metadata": {},
     "output_type": "execute_result"
    }
   ],
   "source": [
    "R_inv"
   ]
  },
  {
   "cell_type": "code",
   "execution_count": 5,
   "metadata": {},
   "outputs": [
    {
     "data": {
      "text/plain": [
       "array([[ 2,  2],\n",
       "       [-1,  1]])"
      ]
     },
     "execution_count": 5,
     "metadata": {},
     "output_type": "execute_result"
    }
   ],
   "source": [
    "R"
   ]
  },
  {
   "cell_type": "code",
   "execution_count": null,
   "metadata": {},
   "outputs": [],
   "source": []
  }
 ],
 "metadata": {
  "kernelspec": {
   "display_name": "Python 3",
   "language": "python",
   "name": "python3"
  },
  "language_info": {
   "codemirror_mode": {
    "name": "ipython",
    "version": 3
   },
   "file_extension": ".py",
   "mimetype": "text/x-python",
   "name": "python",
   "nbconvert_exporter": "python",
   "pygments_lexer": "ipython3",
   "version": "3.11.7"
  }
 },
 "nbformat": 4,
 "nbformat_minor": 2
}
