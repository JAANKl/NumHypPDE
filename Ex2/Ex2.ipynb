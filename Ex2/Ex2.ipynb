{
 "cells": [
  {
   "cell_type": "code",
   "execution_count": 43,
   "id": "36e050b9",
   "metadata": {},
   "outputs": [
    {
     "data": {
      "text/plain": [
       "<matplotlib.legend.Legend at 0x1d9196aa4f0>"
      ]
     },
     "execution_count": 43,
     "metadata": {},
     "output_type": "execute_result"
    },
    {
     "data": {
      "image/png": "[encoded data removed]",
      "text/plain": [
       "<Figure size 432x288 with 1 Axes>"
      ]
     },
     "metadata": {
      "needs_background": "light"
     },
     "output_type": "display_data"
    }
   ],
   "source": [
    "import numpy as np\n",
    "import matplotlib.pyplot as plt\n",
    "tend = 2\n",
    "N = 100\n",
    "dx = 1 / N\n",
    "dt = 1 / (4 * N)  # <= 1/(2N)\n",
    "c = 2 * dt / dx\n",
    "x = np.linspace(-10, 10, N)\n",
    "# Initial values:\n",
    "u_0 = -np.ones(N) + 2 * (x>0)\n",
    "u_FTBS = u_0\n",
    "u_LW = u_0\n",
    "num_solutions_FTBS = [u_FTBS]\n",
    "num_solutions_LW = [u_LW]\n",
    "# FTBS Matrix:\n",
    "M_FTBS = np.diag((1 - c) * np.ones(N)) + np.diag(c * np.ones(N - 1), -1)\n",
    "M_FTBS[0, 0] += c\n",
    "for _ in range(int(tend / dt)):\n",
    "    u_FTBS = M_FTBS @ u_FTBS\n",
    "    num_solutions_FTBS.append(u_FTBS)\n",
    "# Lax-Wendroff Matrix:\n",
    "M_LW = np.diag((1 - c**2) * np.ones(N)) + np.diag(c*(c-1)/2 * np.ones(N - 1), 1) + np.diag(c*(c+1)/2 * np.ones(N - 1), -1)\n",
    "M_LW[0, 0] += c*(c+1)/2\n",
    "M_LW[-1, -1] += c*(c-1)/2\n",
    "for _ in range(int(tend / dt)):\n",
    "    u_LW = M_LW @ u_LW\n",
    "    num_solutions_LW.append(u_LW)\n",
    "    \n",
    "# Plotting\n",
    "plt.scatter(x, u_FTBS, label=\"FTBS\", s=0.5)\n",
    "plt.scatter(x, u_LW, label=\"Lax-Wendroff\", s=0.5)\n",
    "plt.legend()"
   ]
  },
  {
   "cell_type": "code",
   "execution_count": 41,
   "id": "14a62a9d",
   "metadata": {},
   "outputs": [
    {
     "data": {
      "image/png": "[encoded data removed]",
      "text/plain": [
       "<Figure size 432x288 with 1 Axes>"
      ]
     },
     "metadata": {
      "needs_background": "light"
     },
     "output_type": "display_data"
    }
   ],
   "source": [
    "import matplotlib.animation as animation\n",
    "\n",
    "fig, ax = plt.subplots()\n",
    "\n",
    "scat_FTBS = ax.scatter(x, u_FTBS, label=\"FTBS\", s=0.5)\n",
    "scat_LW = ax.scatter(x, u_LW, label=\"Lax-Wendroff\", s=0.5)\n",
    "# ax.set(xlim=[0, 3], ylim=[-4, 10], xlabel='Time [s]', ylabel='Z [m]')\n",
    "ax.legend()\n",
    "\n",
    "\n",
    "def update(frame):\n",
    "    # for each frame, update the data stored on each artist.\n",
    "    # update the FTBS scatter plot:\n",
    "    data = np.stack([x, num_solutions_FTBS[frame]]).T\n",
    "    scat_FTBS.set_offsets(data)\n",
    "    # update the LW scatter plot:\n",
    "    data = np.stack([x, num_solutions_LW[frame]]).T\n",
    "    scat_LW.set_offsets(data)\n",
    "    return (scat_FTBS, scat_LW)\n",
    "\n",
    "\n",
    "ani = animation.FuncAnimation(fig=fig, func=update, frames=40, interval=30)\n",
    "plt.show()"
   ]
  },
  {
   "cell_type": "code",
   "execution_count": 37,
   "id": "686c87e1",
   "metadata": {},
   "outputs": [
    {
     "data": {
      "image/png": "[encoded data removed]",
      "text/plain": [
       "<Figure size 432x288 with 1 Axes>"
      ]
     },
     "metadata": {
      "needs_background": "light"
     },
     "output_type": "display_data"
    }
   ],
   "source": [
    "fig, ax = plt.subplots()\n",
    "t = np.linspace(0, 3, 40)\n",
    "g = -9.81\n",
    "v0 = 12\n",
    "z = g * t**2 / 2 + v0 * t\n",
    "\n",
    "v02 = 5\n",
    "z2 = g * t**2 / 2 + v02 * t\n",
    "\n",
    "scat = ax.scatter(t[0], z[0], c=\"b\", s=5, label=f'v0 = {v0} m/s')\n",
    "line2 = ax.plot(t[0], z2[0], label=f'v0 = {v02} m/s')[0]\n",
    "ax.set(xlim=[0, 3], ylim=[-4, 10], xlabel='Time [s]', ylabel='Z [m]')\n",
    "ax.legend()\n",
    "\n",
    "\n",
    "def update(frame):\n",
    "    # for each frame, update the data stored on each artist.\n",
    "    x = t[:frame]\n",
    "    y = z[:frame]\n",
    "    # update the scatter plot:\n",
    "    data = np.stack([x, y]).T\n",
    "    scat.set_offsets(data)\n",
    "    # update the line plot:\n",
    "    line2.set_xdata(t[:frame])\n",
    "    line2.set_ydata(z2[:frame])\n",
    "    return (scat, line2)\n",
    "\n",
    "\n",
    "ani = animation.FuncAnimation(fig=fig, func=update, frames=40, interval=30)\n",
    "plt.show()"
   ]
  },
  {
   "cell_type": "code",
   "execution_count": 36,
   "id": "d664782d",
   "metadata": {},
   "outputs": [
    {
     "data": {
      "text/plain": [
       "<matplotlib.animation.FuncAnimation at 0x1d91963ee20>"
      ]
     },
     "execution_count": 36,
     "metadata": {},
     "output_type": "execute_result"
    }
   ],
   "source": [
    "ani"
   ]
  },
  {
   "cell_type": "code",
   "execution_count": null,
   "id": "db77f8c6",
   "metadata": {},
   "outputs": [],
   "source": []
  }
 ],
 "metadata": {
  "kernelspec": {
   "display_name": "Python 3",
   "language": "python",
   "name": "python3"
  },
  "language_info": {
   "codemirror_mode": {
    "name": "ipython",
    "version": 3
   },
   "file_extension": ".py",
   "mimetype": "text/x-python",
   "name": "python",
   "nbconvert_exporter": "python",
   "pygments_lexer": "ipython3",
   "version": "3.8.18"
  }
 },
 "nbformat": 4,
 "nbformat_minor": 5
}
